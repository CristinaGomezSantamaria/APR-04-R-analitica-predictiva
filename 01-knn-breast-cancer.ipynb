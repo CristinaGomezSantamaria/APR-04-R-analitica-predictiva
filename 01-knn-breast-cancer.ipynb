{
 "cells": [
  {
   "cell_type": "markdown",
   "metadata": {},
   "source": [
    "Diagnóstico del cáncer de mama usando kNN\n",
    "===\n",
    "\n",
    "**Juan David Velásquez Henao**  \n",
    "jdvelasq@unal.edu.co   \n",
    "Universidad Nacional de Colombia, Sede Medellín  \n",
    "Facultad de Minas  \n",
    "Medellín, Colombia\n",
    "\n",
    "---\n",
    "\n",
    "Haga click [aquí](https://github.com/jdvelasq/R-for-predictive-analytics/tree/master/) para acceder al repositorio online.\n",
    "\n",
    "Haga click [aquí](http://nbviewer.jupyter.org/github/jdvelasq/R-for-predictive-analytics/tree/master/) para explorar el repositorio usando `nbviewer`. "
   ]
  },
  {
   "cell_type": "markdown",
   "metadata": {},
   "source": [
    "---"
   ]
  },
  {
   "cell_type": "markdown",
   "metadata": {},
   "source": [
    "**Bibliografía.**\n",
    "* Machine Learning with R. Brett Lantz, Packt Publishing, Second Edition, 2015."
   ]
  },
  {
   "cell_type": "markdown",
   "metadata": {},
   "source": [
    "# Definición del problema real"
   ]
  },
  {
   "cell_type": "markdown",
   "metadata": {},
   "source": [
    "Se desea determinar si una masa mamaria es un tumor benigno o maligno, a partir de las medidas obtenidas de imágenes digitalizadas de la aspiración con una aguja fina. Los valores representan las características de los núcleos celulares presentes en la imagen digital. "
   ]
  },
  {
   "cell_type": "markdown",
   "metadata": {},
   "source": [
    "# Definición del problema en términos de los datos"
   ]
  },
  {
   "cell_type": "markdown",
   "metadata": {},
   "source": [
    "Se tiene una muestra de 569 ejemplos de resultados de las biopsias. Cada registro contiene 32 variables, las cuales corresponden a tres medidas (media, desviación estándar, peor caso) de diez características diferentes (radius, texture, ...).\n",
    "\n",
    "* Identification number\n",
    "* Cancer diagnosis (\"M\" para maligno y \"B\" para benigno)\n",
    "* Radius\n",
    "* Texture\n",
    "* Perimeter\n",
    "* Area\n",
    "* Smoothness\n",
    "* Compactness\n",
    "* Concavity\n",
    "* Concave points\n",
    "* Symmetry\n",
    "* Fractal dimension\n",
    "\n",
    "En términos de los datos, se desea pronosticar si una masa es benigna o maligna (clase B o M) a partir de las 30 variables.\n",
    "\n",
    "Fuente de los datos: https://archive.ics.uci.edu/ml/datasets/Breast+Cancer+Wisconsin+(Diagnostic)"
   ]
  },
  {
   "cell_type": "markdown",
   "metadata": {},
   "source": [
    "# Exploración"
   ]
  },
  {
   "cell_type": "code",
   "execution_count": 1,
   "metadata": {},
   "outputs": [
    {
     "name": "stdout",
     "output_type": "stream",
     "text": [
      "'data.frame':\t569 obs. of  32 variables:\n",
      " $ id                     : int  842302 842517 84300903 84348301 84358402 843786 844359 84458202 844981 84501001 ...\n",
      " $ diagnosis              : chr  \"M\" \"M\" \"M\" \"M\" ...\n",
      " $ radius_mean            : num  18 20.6 19.7 11.4 20.3 ...\n",
      " $ texture_mean           : num  10.4 17.8 21.2 20.4 14.3 ...\n",
      " $ perimeter_mean         : num  122.8 132.9 130 77.6 135.1 ...\n",
      " $ area_mean              : num  1001 1326 1203 386 1297 ...\n",
      " $ smoothness_mean        : num  0.1184 0.0847 0.1096 0.1425 0.1003 ...\n",
      " $ compactness_mean       : num  0.2776 0.0786 0.1599 0.2839 0.1328 ...\n",
      " $ concavity_mean         : num  0.3001 0.0869 0.1974 0.2414 0.198 ...\n",
      " $ concave.points_mean    : num  0.1471 0.0702 0.1279 0.1052 0.1043 ...\n",
      " $ symmetry_mean          : num  0.242 0.181 0.207 0.26 0.181 ...\n",
      " $ fractal_dimension_mean : num  0.0787 0.0567 0.06 0.0974 0.0588 ...\n",
      " $ radius_se              : num  1.095 0.543 0.746 0.496 0.757 ...\n",
      " $ texture_se             : num  0.905 0.734 0.787 1.156 0.781 ...\n",
      " $ perimeter_se           : num  8.59 3.4 4.58 3.44 5.44 ...\n",
      " $ area_se                : num  153.4 74.1 94 27.2 94.4 ...\n",
      " $ smoothness_se          : num  0.0064 0.00522 0.00615 0.00911 0.01149 ...\n",
      " $ compactness_se         : num  0.049 0.0131 0.0401 0.0746 0.0246 ...\n",
      " $ concavity_se           : num  0.0537 0.0186 0.0383 0.0566 0.0569 ...\n",
      " $ concave.points_se      : num  0.0159 0.0134 0.0206 0.0187 0.0188 ...\n",
      " $ symmetry_se            : num  0.03 0.0139 0.0225 0.0596 0.0176 ...\n",
      " $ fractal_dimension_se   : num  0.00619 0.00353 0.00457 0.00921 0.00511 ...\n",
      " $ radius_worst           : num  25.4 25 23.6 14.9 22.5 ...\n",
      " $ texture_worst          : num  17.3 23.4 25.5 26.5 16.7 ...\n",
      " $ perimeter_worst        : num  184.6 158.8 152.5 98.9 152.2 ...\n",
      " $ area_worst             : num  2019 1956 1709 568 1575 ...\n",
      " $ smoothness_worst       : num  0.162 0.124 0.144 0.21 0.137 ...\n",
      " $ compactness_worst      : num  0.666 0.187 0.424 0.866 0.205 ...\n",
      " $ concavity_worst        : num  0.712 0.242 0.45 0.687 0.4 ...\n",
      " $ concave.points_worst   : num  0.265 0.186 0.243 0.258 0.163 ...\n",
      " $ symmetry_worst         : num  0.46 0.275 0.361 0.664 0.236 ...\n",
      " $ fractal_dimension_worst: num  0.1189 0.089 0.0876 0.173 0.0768 ...\n"
     ]
    }
   ],
   "source": [
    "##\n",
    "## Lee el archivo\n",
    "##\n",
    "data <- read.csv(\"data/wisc_bc_data.csv\", \n",
    "                 stringsAsFactors = FALSE)\n",
    "\n",
    "##\n",
    "## Verificación de los datos cargados\n",
    "## La columna diagnosis corresponde al dianóstico.\n",
    "##\n",
    "str(data)"
   ]
  },
  {
   "cell_type": "code",
   "execution_count": 2,
   "metadata": {},
   "outputs": [
    {
     "data": {
      "text/html": [
       "<table>\n",
       "<thead><tr><th scope=col>radius_mean</th><th scope=col>texture_mean</th><th scope=col>perimeter_mean</th><th scope=col>area_mean</th><th scope=col>smoothness_mean</th><th scope=col>compactness_mean</th><th scope=col>concavity_mean</th><th scope=col>concave.points_mean</th><th scope=col>symmetry_mean</th><th scope=col>fractal_dimension_mean</th><th scope=col>⋯</th><th scope=col>radius_worst</th><th scope=col>texture_worst</th><th scope=col>perimeter_worst</th><th scope=col>area_worst</th><th scope=col>smoothness_worst</th><th scope=col>compactness_worst</th><th scope=col>concavity_worst</th><th scope=col>concave.points_worst</th><th scope=col>symmetry_worst</th><th scope=col>fractal_dimension_worst</th></tr></thead>\n",
       "<tbody>\n",
       "\t<tr><td>17.99  </td><td>10.38  </td><td>122.80 </td><td>1001.0 </td><td>0.11840</td><td>0.27760</td><td>0.3001 </td><td>0.14710</td><td>0.2419 </td><td>0.07871</td><td>⋯      </td><td>25.38  </td><td>17.33  </td><td>184.60 </td><td>2019.0 </td><td>0.1622 </td><td>0.6656 </td><td>0.7119 </td><td>0.2654 </td><td>0.4601 </td><td>0.11890</td></tr>\n",
       "\t<tr><td>20.57  </td><td>17.77  </td><td>132.90 </td><td>1326.0 </td><td>0.08474</td><td>0.07864</td><td>0.0869 </td><td>0.07017</td><td>0.1812 </td><td>0.05667</td><td>⋯      </td><td>24.99  </td><td>23.41  </td><td>158.80 </td><td>1956.0 </td><td>0.1238 </td><td>0.1866 </td><td>0.2416 </td><td>0.1860 </td><td>0.2750 </td><td>0.08902</td></tr>\n",
       "\t<tr><td>19.69  </td><td>21.25  </td><td>130.00 </td><td>1203.0 </td><td>0.10960</td><td>0.15990</td><td>0.1974 </td><td>0.12790</td><td>0.2069 </td><td>0.05999</td><td>⋯      </td><td>23.57  </td><td>25.53  </td><td>152.50 </td><td>1709.0 </td><td>0.1444 </td><td>0.4245 </td><td>0.4504 </td><td>0.2430 </td><td>0.3613 </td><td>0.08758</td></tr>\n",
       "\t<tr><td>11.42  </td><td>20.38  </td><td> 77.58 </td><td> 386.1 </td><td>0.14250</td><td>0.28390</td><td>0.2414 </td><td>0.10520</td><td>0.2597 </td><td>0.09744</td><td>⋯      </td><td>14.91  </td><td>26.50  </td><td> 98.87 </td><td> 567.7 </td><td>0.2098 </td><td>0.8663 </td><td>0.6869 </td><td>0.2575 </td><td>0.6638 </td><td>0.17300</td></tr>\n",
       "\t<tr><td>20.29  </td><td>14.34  </td><td>135.10 </td><td>1297.0 </td><td>0.10030</td><td>0.13280</td><td>0.1980 </td><td>0.10430</td><td>0.1809 </td><td>0.05883</td><td>⋯      </td><td>22.54  </td><td>16.67  </td><td>152.20 </td><td>1575.0 </td><td>0.1374 </td><td>0.2050 </td><td>0.4000 </td><td>0.1625 </td><td>0.2364 </td><td>0.07678</td></tr>\n",
       "\t<tr><td>12.45  </td><td>15.70  </td><td> 82.57 </td><td> 477.1 </td><td>0.12780</td><td>0.17000</td><td>0.1578 </td><td>0.08089</td><td>0.2087 </td><td>0.07613</td><td>⋯      </td><td>15.47  </td><td>23.75  </td><td>103.40 </td><td> 741.6 </td><td>0.1791 </td><td>0.5249 </td><td>0.5355 </td><td>0.1741 </td><td>0.3985 </td><td>0.12440</td></tr>\n",
       "</tbody>\n",
       "</table>\n"
      ],
      "text/latex": [
       "\\begin{tabular}{r|llllllllllllllllllllllllllllll}\n",
       " radius\\_mean & texture\\_mean & perimeter\\_mean & area\\_mean & smoothness\\_mean & compactness\\_mean & concavity\\_mean & concave.points\\_mean & symmetry\\_mean & fractal\\_dimension\\_mean & ⋯ & radius\\_worst & texture\\_worst & perimeter\\_worst & area\\_worst & smoothness\\_worst & compactness\\_worst & concavity\\_worst & concave.points\\_worst & symmetry\\_worst & fractal\\_dimension\\_worst\\\\\n",
       "\\hline\n",
       "\t 17.99   & 10.38   & 122.80  & 1001.0  & 0.11840 & 0.27760 & 0.3001  & 0.14710 & 0.2419  & 0.07871 & ⋯       & 25.38   & 17.33   & 184.60  & 2019.0  & 0.1622  & 0.6656  & 0.7119  & 0.2654  & 0.4601  & 0.11890\\\\\n",
       "\t 20.57   & 17.77   & 132.90  & 1326.0  & 0.08474 & 0.07864 & 0.0869  & 0.07017 & 0.1812  & 0.05667 & ⋯       & 24.99   & 23.41   & 158.80  & 1956.0  & 0.1238  & 0.1866  & 0.2416  & 0.1860  & 0.2750  & 0.08902\\\\\n",
       "\t 19.69   & 21.25   & 130.00  & 1203.0  & 0.10960 & 0.15990 & 0.1974  & 0.12790 & 0.2069  & 0.05999 & ⋯       & 23.57   & 25.53   & 152.50  & 1709.0  & 0.1444  & 0.4245  & 0.4504  & 0.2430  & 0.3613  & 0.08758\\\\\n",
       "\t 11.42   & 20.38   &  77.58  &  386.1  & 0.14250 & 0.28390 & 0.2414  & 0.10520 & 0.2597  & 0.09744 & ⋯       & 14.91   & 26.50   &  98.87  &  567.7  & 0.2098  & 0.8663  & 0.6869  & 0.2575  & 0.6638  & 0.17300\\\\\n",
       "\t 20.29   & 14.34   & 135.10  & 1297.0  & 0.10030 & 0.13280 & 0.1980  & 0.10430 & 0.1809  & 0.05883 & ⋯       & 22.54   & 16.67   & 152.20  & 1575.0  & 0.1374  & 0.2050  & 0.4000  & 0.1625  & 0.2364  & 0.07678\\\\\n",
       "\t 12.45   & 15.70   &  82.57  &  477.1  & 0.12780 & 0.17000 & 0.1578  & 0.08089 & 0.2087  & 0.07613 & ⋯       & 15.47   & 23.75   & 103.40  &  741.6  & 0.1791  & 0.5249  & 0.5355  & 0.1741  & 0.3985  & 0.12440\\\\\n",
       "\\end{tabular}\n"
      ],
      "text/markdown": [
       "\n",
       "radius_mean | texture_mean | perimeter_mean | area_mean | smoothness_mean | compactness_mean | concavity_mean | concave.points_mean | symmetry_mean | fractal_dimension_mean | ⋯ | radius_worst | texture_worst | perimeter_worst | area_worst | smoothness_worst | compactness_worst | concavity_worst | concave.points_worst | symmetry_worst | fractal_dimension_worst | \n",
       "|---|---|---|---|---|---|\n",
       "| 17.99   | 10.38   | 122.80  | 1001.0  | 0.11840 | 0.27760 | 0.3001  | 0.14710 | 0.2419  | 0.07871 | ⋯       | 25.38   | 17.33   | 184.60  | 2019.0  | 0.1622  | 0.6656  | 0.7119  | 0.2654  | 0.4601  | 0.11890 | \n",
       "| 20.57   | 17.77   | 132.90  | 1326.0  | 0.08474 | 0.07864 | 0.0869  | 0.07017 | 0.1812  | 0.05667 | ⋯       | 24.99   | 23.41   | 158.80  | 1956.0  | 0.1238  | 0.1866  | 0.2416  | 0.1860  | 0.2750  | 0.08902 | \n",
       "| 19.69   | 21.25   | 130.00  | 1203.0  | 0.10960 | 0.15990 | 0.1974  | 0.12790 | 0.2069  | 0.05999 | ⋯       | 23.57   | 25.53   | 152.50  | 1709.0  | 0.1444  | 0.4245  | 0.4504  | 0.2430  | 0.3613  | 0.08758 | \n",
       "| 11.42   | 20.38   |  77.58  |  386.1  | 0.14250 | 0.28390 | 0.2414  | 0.10520 | 0.2597  | 0.09744 | ⋯       | 14.91   | 26.50   |  98.87  |  567.7  | 0.2098  | 0.8663  | 0.6869  | 0.2575  | 0.6638  | 0.17300 | \n",
       "| 20.29   | 14.34   | 135.10  | 1297.0  | 0.10030 | 0.13280 | 0.1980  | 0.10430 | 0.1809  | 0.05883 | ⋯       | 22.54   | 16.67   | 152.20  | 1575.0  | 0.1374  | 0.2050  | 0.4000  | 0.1625  | 0.2364  | 0.07678 | \n",
       "| 12.45   | 15.70   |  82.57  |  477.1  | 0.12780 | 0.17000 | 0.1578  | 0.08089 | 0.2087  | 0.07613 | ⋯       | 15.47   | 23.75   | 103.40  |  741.6  | 0.1791  | 0.5249  | 0.5355  | 0.1741  | 0.3985  | 0.12440 | \n",
       "\n",
       "\n"
      ],
      "text/plain": [
       "  radius_mean texture_mean perimeter_mean area_mean smoothness_mean\n",
       "1 17.99       10.38        122.80         1001.0    0.11840        \n",
       "2 20.57       17.77        132.90         1326.0    0.08474        \n",
       "3 19.69       21.25        130.00         1203.0    0.10960        \n",
       "4 11.42       20.38         77.58          386.1    0.14250        \n",
       "5 20.29       14.34        135.10         1297.0    0.10030        \n",
       "6 12.45       15.70         82.57          477.1    0.12780        \n",
       "  compactness_mean concavity_mean concave.points_mean symmetry_mean\n",
       "1 0.27760          0.3001         0.14710             0.2419       \n",
       "2 0.07864          0.0869         0.07017             0.1812       \n",
       "3 0.15990          0.1974         0.12790             0.2069       \n",
       "4 0.28390          0.2414         0.10520             0.2597       \n",
       "5 0.13280          0.1980         0.10430             0.1809       \n",
       "6 0.17000          0.1578         0.08089             0.2087       \n",
       "  fractal_dimension_mean ⋯ radius_worst texture_worst perimeter_worst\n",
       "1 0.07871                ⋯ 25.38        17.33         184.60         \n",
       "2 0.05667                ⋯ 24.99        23.41         158.80         \n",
       "3 0.05999                ⋯ 23.57        25.53         152.50         \n",
       "4 0.09744                ⋯ 14.91        26.50          98.87         \n",
       "5 0.05883                ⋯ 22.54        16.67         152.20         \n",
       "6 0.07613                ⋯ 15.47        23.75         103.40         \n",
       "  area_worst smoothness_worst compactness_worst concavity_worst\n",
       "1 2019.0     0.1622           0.6656            0.7119         \n",
       "2 1956.0     0.1238           0.1866            0.2416         \n",
       "3 1709.0     0.1444           0.4245            0.4504         \n",
       "4  567.7     0.2098           0.8663            0.6869         \n",
       "5 1575.0     0.1374           0.2050            0.4000         \n",
       "6  741.6     0.1791           0.5249            0.5355         \n",
       "  concave.points_worst symmetry_worst fractal_dimension_worst\n",
       "1 0.2654               0.4601         0.11890                \n",
       "2 0.1860               0.2750         0.08902                \n",
       "3 0.2430               0.3613         0.08758                \n",
       "4 0.2575               0.6638         0.17300                \n",
       "5 0.1625               0.2364         0.07678                \n",
       "6 0.1741               0.3985         0.12440                "
      ]
     },
     "metadata": {},
     "output_type": "display_data"
    }
   ],
   "source": [
    "##\n",
    "## Extrae la columna diagnosis que es la \n",
    "## variable de salida (columna 1)\n",
    "##\n",
    "y = data$diagnosis\n",
    "\n",
    "##\n",
    "## Elimina las columnas 0 (id) y 1 (diagnosis)\n",
    "## de los datos originales\n",
    "##\n",
    "X = data[,3:ncol(data)]\n",
    "head(X)"
   ]
  },
  {
   "cell_type": "code",
   "execution_count": 3,
   "metadata": {},
   "outputs": [
    {
     "data": {
      "text/plain": [
       "y\n",
       "  B   M \n",
       "357 212 "
      ]
     },
     "metadata": {},
     "output_type": "display_data"
    }
   ],
   "source": [
    "##\n",
    "## Cantidad de casos para cada diagnóstico.\n",
    "##\n",
    "table(y)"
   ]
  },
  {
   "cell_type": "code",
   "execution_count": 4,
   "metadata": {},
   "outputs": [
    {
     "data": {
      "text/html": [
       "<ol class=list-inline>\n",
       "\t<li>Malignant</li>\n",
       "\t<li>Malignant</li>\n",
       "\t<li>Malignant</li>\n",
       "\t<li>Malignant</li>\n",
       "\t<li>Malignant</li>\n",
       "\t<li>Malignant</li>\n",
       "</ol>\n"
      ],
      "text/latex": [
       "\\begin{enumerate*}\n",
       "\\item Malignant\n",
       "\\item Malignant\n",
       "\\item Malignant\n",
       "\\item Malignant\n",
       "\\item Malignant\n",
       "\\item Malignant\n",
       "\\end{enumerate*}\n"
      ],
      "text/markdown": [
       "1. Malignant\n",
       "2. Malignant\n",
       "3. Malignant\n",
       "4. Malignant\n",
       "5. Malignant\n",
       "6. Malignant\n",
       "\n",
       "\n"
      ],
      "text/plain": [
       "[1] Malignant Malignant Malignant Malignant Malignant Malignant\n",
       "Levels: Benign Malignant"
      ]
     },
     "metadata": {},
     "output_type": "display_data"
    }
   ],
   "source": [
    "##\n",
    "## Se convierte la columna diagnosis de character a factor.\n",
    "##\n",
    "y <- factor(y,\n",
    "            levels = c(\"B\", \"M\"),              # las letras B y M se convierten en factores\n",
    "            labels = c(\"Benign\", \"Malignant\")) # se dan nuevos nombres a los factores\n",
    "head(y)"
   ]
  },
  {
   "cell_type": "code",
   "execution_count": 5,
   "metadata": {},
   "outputs": [
    {
     "data": {
      "text/plain": [
       "y\n",
       "   Benign Malignant \n",
       "      357       212 "
      ]
     },
     "metadata": {},
     "output_type": "display_data"
    }
   ],
   "source": [
    "##\n",
    "## Cantidad de casos para cada diagnostico.\n",
    "## Note que los nombres son más informativos.\n",
    "##\n",
    "table(y)"
   ]
  },
  {
   "cell_type": "code",
   "execution_count": 6,
   "metadata": {
    "scrolled": true
   },
   "outputs": [
    {
     "data": {
      "text/plain": [
       "y\n",
       "   Benign Malignant \n",
       "     62.7      37.3 "
      ]
     },
     "metadata": {},
     "output_type": "display_data"
    }
   ],
   "source": [
    "##\n",
    "## Se convierte el conteo en probabilidades.\n",
    "##\n",
    "round(prop.table(table(y)) * 100, digits = 1)"
   ]
  },
  {
   "cell_type": "markdown",
   "metadata": {},
   "source": [
    "# Metodología\n",
    "\n",
    "\n",
    "Haga click [aquí](https://github.com/jdvelasq/statistics-for-analytics/tree/master/) para acceder al repositorio online con la descripción de la metodología.\n",
    "\n",
    "Haga click [aquí](http://nbviewer.jupyter.org/github/jdvelasq/statistics-for-analytics/tree/master/) para explorar el repositorio de la metodología usando `nbviewer`. "
   ]
  },
  {
   "cell_type": "markdown",
   "metadata": {},
   "source": [
    "El problema en términos matemáticos se define de la siguiente forma. \n",
    "* Se tienen $M$ ejemplos (las 569 observaciones del problema analizado).  \n",
    "* Cada ejemplo esta definido por un conjunto de variables ($x_1$, $x_2$, ..., $x_N$); es decir, las 30 columnas de datos.\n",
    "* Cada ejemplo pertenece a una clase y hay $P$ clases diferentes; en el caso analizado sólo hay dos clases: benigno o maligno. \n",
    "* Para un nuevo caso (tumor) y con base en las 30 mediciones realizadas (variables), se desea pronosticar a que clase pertenece (maligno o benigno). "
   ]
  },
  {
   "cell_type": "markdown",
   "metadata": {},
   "source": [
    "# Preparación de los datos"
   ]
  },
  {
   "cell_type": "code",
   "execution_count": 7,
   "metadata": {
    "scrolled": false
   },
   "outputs": [
    {
     "data": {
      "text/plain": [
       "  radius_mean      texture_mean   perimeter_mean     area_mean     \n",
       " Min.   : 6.981   Min.   : 9.71   Min.   : 43.79   Min.   : 143.5  \n",
       " 1st Qu.:11.700   1st Qu.:16.17   1st Qu.: 75.17   1st Qu.: 420.3  \n",
       " Median :13.370   Median :18.84   Median : 86.24   Median : 551.1  \n",
       " Mean   :14.127   Mean   :19.29   Mean   : 91.97   Mean   : 654.9  \n",
       " 3rd Qu.:15.780   3rd Qu.:21.80   3rd Qu.:104.10   3rd Qu.: 782.7  \n",
       " Max.   :28.110   Max.   :39.28   Max.   :188.50   Max.   :2501.0  \n",
       " smoothness_mean   compactness_mean  concavity_mean    concave.points_mean\n",
       " Min.   :0.05263   Min.   :0.01938   Min.   :0.00000   Min.   :0.00000    \n",
       " 1st Qu.:0.08637   1st Qu.:0.06492   1st Qu.:0.02956   1st Qu.:0.02031    \n",
       " Median :0.09587   Median :0.09263   Median :0.06154   Median :0.03350    \n",
       " Mean   :0.09636   Mean   :0.10434   Mean   :0.08880   Mean   :0.04892    \n",
       " 3rd Qu.:0.10530   3rd Qu.:0.13040   3rd Qu.:0.13070   3rd Qu.:0.07400    \n",
       " Max.   :0.16340   Max.   :0.34540   Max.   :0.42680   Max.   :0.20120    \n",
       " symmetry_mean    fractal_dimension_mean   radius_se        texture_se    \n",
       " Min.   :0.1060   Min.   :0.04996        Min.   :0.1115   Min.   :0.3602  \n",
       " 1st Qu.:0.1619   1st Qu.:0.05770        1st Qu.:0.2324   1st Qu.:0.8339  \n",
       " Median :0.1792   Median :0.06154        Median :0.3242   Median :1.1080  \n",
       " Mean   :0.1812   Mean   :0.06280        Mean   :0.4052   Mean   :1.2169  \n",
       " 3rd Qu.:0.1957   3rd Qu.:0.06612        3rd Qu.:0.4789   3rd Qu.:1.4740  \n",
       " Max.   :0.3040   Max.   :0.09744        Max.   :2.8730   Max.   :4.8850  \n",
       "  perimeter_se       area_se        smoothness_se      compactness_se    \n",
       " Min.   : 0.757   Min.   :  6.802   Min.   :0.001713   Min.   :0.002252  \n",
       " 1st Qu.: 1.606   1st Qu.: 17.850   1st Qu.:0.005169   1st Qu.:0.013080  \n",
       " Median : 2.287   Median : 24.530   Median :0.006380   Median :0.020450  \n",
       " Mean   : 2.866   Mean   : 40.337   Mean   :0.007041   Mean   :0.025478  \n",
       " 3rd Qu.: 3.357   3rd Qu.: 45.190   3rd Qu.:0.008146   3rd Qu.:0.032450  \n",
       " Max.   :21.980   Max.   :542.200   Max.   :0.031130   Max.   :0.135400  \n",
       "  concavity_se     concave.points_se   symmetry_se       fractal_dimension_se\n",
       " Min.   :0.00000   Min.   :0.000000   Min.   :0.007882   Min.   :0.0008948   \n",
       " 1st Qu.:0.01509   1st Qu.:0.007638   1st Qu.:0.015160   1st Qu.:0.0022480   \n",
       " Median :0.02589   Median :0.010930   Median :0.018730   Median :0.0031870   \n",
       " Mean   :0.03189   Mean   :0.011796   Mean   :0.020542   Mean   :0.0037949   \n",
       " 3rd Qu.:0.04205   3rd Qu.:0.014710   3rd Qu.:0.023480   3rd Qu.:0.0045580   \n",
       " Max.   :0.39600   Max.   :0.052790   Max.   :0.078950   Max.   :0.0298400   \n",
       "  radius_worst   texture_worst   perimeter_worst    area_worst    \n",
       " Min.   : 7.93   Min.   :12.02   Min.   : 50.41   Min.   : 185.2  \n",
       " 1st Qu.:13.01   1st Qu.:21.08   1st Qu.: 84.11   1st Qu.: 515.3  \n",
       " Median :14.97   Median :25.41   Median : 97.66   Median : 686.5  \n",
       " Mean   :16.27   Mean   :25.68   Mean   :107.26   Mean   : 880.6  \n",
       " 3rd Qu.:18.79   3rd Qu.:29.72   3rd Qu.:125.40   3rd Qu.:1084.0  \n",
       " Max.   :36.04   Max.   :49.54   Max.   :251.20   Max.   :4254.0  \n",
       " smoothness_worst  compactness_worst concavity_worst  concave.points_worst\n",
       " Min.   :0.07117   Min.   :0.02729   Min.   :0.0000   Min.   :0.00000     \n",
       " 1st Qu.:0.11660   1st Qu.:0.14720   1st Qu.:0.1145   1st Qu.:0.06493     \n",
       " Median :0.13130   Median :0.21190   Median :0.2267   Median :0.09993     \n",
       " Mean   :0.13237   Mean   :0.25427   Mean   :0.2722   Mean   :0.11461     \n",
       " 3rd Qu.:0.14600   3rd Qu.:0.33910   3rd Qu.:0.3829   3rd Qu.:0.16140     \n",
       " Max.   :0.22260   Max.   :1.05800   Max.   :1.2520   Max.   :0.29100     \n",
       " symmetry_worst   fractal_dimension_worst\n",
       " Min.   :0.1565   Min.   :0.05504        \n",
       " 1st Qu.:0.2504   1st Qu.:0.07146        \n",
       " Median :0.2822   Median :0.08004        \n",
       " Mean   :0.2901   Mean   :0.08395        \n",
       " 3rd Qu.:0.3179   3rd Qu.:0.09208        \n",
       " Max.   :0.6638   Max.   :0.20750        "
      ]
     },
     "metadata": {},
     "output_type": "display_data"
    }
   ],
   "source": [
    "##\n",
    "## se examina el rango de las variables\n",
    "##\n",
    "summary(X)"
   ]
  },
  {
   "cell_type": "code",
   "execution_count": 8,
   "metadata": {},
   "outputs": [
    {
     "data": {
      "image/png": "[encoded data removed]",
      "text/plain": [
       "plot without title"
      ]
     },
     "metadata": {},
     "output_type": "display_data"
    }
   ],
   "source": [
    "##\n",
    "## Para las variables numéricas (todas en este\n",
    "## caso) se puede construir un diagrama de\n",
    "## caja y bigotes.\n",
    "##\n",
    "plt <- boxplot(X, \n",
    "               xlab=\"Variables\", \n",
    "               ylab=\"Valores\",\n",
    "               srt = 90,\n",
    "               horiz=FALSE)\n",
    "grid()"
   ]
  },
  {
   "cell_type": "markdown",
   "metadata": {},
   "source": [
    "Note que la información visualizada muestra que las variables tienen diferentes rangos, lo que afecta la medición de las distancias, y habría variables que pesarían más en la medición respecto a otras. Para corregir este problema se normalizan las variables."
   ]
  },
  {
   "cell_type": "code",
   "execution_count": 9,
   "metadata": {},
   "outputs": [
    {
     "data": {
      "text/html": [
       "<table>\n",
       "<thead><tr><th scope=col>radius_mean</th><th scope=col>texture_mean</th><th scope=col>perimeter_mean</th><th scope=col>area_mean</th><th scope=col>smoothness_mean</th><th scope=col>compactness_mean</th><th scope=col>concavity_mean</th><th scope=col>concave.points_mean</th><th scope=col>symmetry_mean</th><th scope=col>fractal_dimension_mean</th><th scope=col>⋯</th><th scope=col>radius_worst</th><th scope=col>texture_worst</th><th scope=col>perimeter_worst</th><th scope=col>area_worst</th><th scope=col>smoothness_worst</th><th scope=col>compactness_worst</th><th scope=col>concavity_worst</th><th scope=col>concave.points_worst</th><th scope=col>symmetry_worst</th><th scope=col>fractal_dimension_worst</th></tr></thead>\n",
       "<tbody>\n",
       "\t<tr><td>0.5210374 </td><td>0.0226581 </td><td>0.5459885 </td><td>0.3637328 </td><td>0.5937528 </td><td>0.7920373 </td><td>0.7031396 </td><td>0.7311133 </td><td>0.6863636 </td><td>0.6055181 </td><td>⋯         </td><td>0.6207755 </td><td>0.1415245 </td><td>0.6683102 </td><td>0.45069799</td><td>0.6011358 </td><td>0.6192916 </td><td>0.5686102 </td><td>0.9120275 </td><td>0.5984624 </td><td>0.4188640 </td></tr>\n",
       "\t<tr><td>0.6431445 </td><td>0.2725736 </td><td>0.6157833 </td><td>0.5015907 </td><td>0.2898799 </td><td>0.1817680 </td><td>0.2036082 </td><td>0.3487575 </td><td>0.3797980 </td><td>0.1413227 </td><td>⋯         </td><td>0.6069015 </td><td>0.3035714 </td><td>0.5398177 </td><td>0.43521431</td><td>0.3475533 </td><td>0.1545634 </td><td>0.1929712 </td><td>0.6391753 </td><td>0.2335896 </td><td>0.2228781 </td></tr>\n",
       "\t<tr><td>0.6014956 </td><td>0.3902604 </td><td>0.5957432 </td><td>0.4494168 </td><td>0.5143089 </td><td>0.4310165 </td><td>0.4625117 </td><td>0.6356859 </td><td>0.5095960 </td><td>0.2112468 </td><td>⋯         </td><td>0.5563856 </td><td>0.3600746 </td><td>0.5084417 </td><td>0.37450845</td><td>0.4835898 </td><td>0.3853751 </td><td>0.3597444 </td><td>0.8350515 </td><td>0.4037059 </td><td>0.2134330 </td></tr>\n",
       "\t<tr><td>0.2100904 </td><td>0.3608387 </td><td>0.2335015 </td><td>0.1029056 </td><td>0.8113208 </td><td>0.8113613 </td><td>0.5656045 </td><td>0.5228628 </td><td>0.7762626 </td><td>1.0000000 </td><td>⋯         </td><td>0.2483102 </td><td>0.3859275 </td><td>0.2413467 </td><td>0.09400806</td><td>0.9154725 </td><td>0.8140117 </td><td>0.5486422 </td><td>0.8848797 </td><td>1.0000000 </td><td>0.7737111 </td></tr>\n",
       "\t<tr><td>0.6298926 </td><td>0.1565776 </td><td>0.6309861 </td><td>0.4892895 </td><td>0.4303512 </td><td>0.3478928 </td><td>0.4639175 </td><td>0.5183897 </td><td>0.3782828 </td><td>0.1868155 </td><td>⋯         </td><td>0.5197439 </td><td>0.1239339 </td><td>0.5069476 </td><td>0.34157491</td><td>0.4373638 </td><td>0.1724151 </td><td>0.3194888 </td><td>0.5584192 </td><td>0.1575005 </td><td>0.1425948 </td></tr>\n",
       "\t<tr><td>0.2588386 </td><td>0.2025702 </td><td>0.2679842 </td><td>0.1415058 </td><td>0.6786133 </td><td>0.4619962 </td><td>0.3697282 </td><td>0.4020378 </td><td>0.5186869 </td><td>0.5511794 </td><td>⋯         </td><td>0.2682319 </td><td>0.3126333 </td><td>0.2639076 </td><td>0.13674794</td><td>0.7127386 </td><td>0.4827837 </td><td>0.4277157 </td><td>0.5982818 </td><td>0.4770353 </td><td>0.4549390 </td></tr>\n",
       "</tbody>\n",
       "</table>\n"
      ],
      "text/latex": [
       "\\begin{tabular}{r|llllllllllllllllllllllllllllll}\n",
       " radius\\_mean & texture\\_mean & perimeter\\_mean & area\\_mean & smoothness\\_mean & compactness\\_mean & concavity\\_mean & concave.points\\_mean & symmetry\\_mean & fractal\\_dimension\\_mean & ⋯ & radius\\_worst & texture\\_worst & perimeter\\_worst & area\\_worst & smoothness\\_worst & compactness\\_worst & concavity\\_worst & concave.points\\_worst & symmetry\\_worst & fractal\\_dimension\\_worst\\\\\n",
       "\\hline\n",
       "\t 0.5210374  & 0.0226581  & 0.5459885  & 0.3637328  & 0.5937528  & 0.7920373  & 0.7031396  & 0.7311133  & 0.6863636  & 0.6055181  & ⋯          & 0.6207755  & 0.1415245  & 0.6683102  & 0.45069799 & 0.6011358  & 0.6192916  & 0.5686102  & 0.9120275  & 0.5984624  & 0.4188640 \\\\\n",
       "\t 0.6431445  & 0.2725736  & 0.6157833  & 0.5015907  & 0.2898799  & 0.1817680  & 0.2036082  & 0.3487575  & 0.3797980  & 0.1413227  & ⋯          & 0.6069015  & 0.3035714  & 0.5398177  & 0.43521431 & 0.3475533  & 0.1545634  & 0.1929712  & 0.6391753  & 0.2335896  & 0.2228781 \\\\\n",
       "\t 0.6014956  & 0.3902604  & 0.5957432  & 0.4494168  & 0.5143089  & 0.4310165  & 0.4625117  & 0.6356859  & 0.5095960  & 0.2112468  & ⋯          & 0.5563856  & 0.3600746  & 0.5084417  & 0.37450845 & 0.4835898  & 0.3853751  & 0.3597444  & 0.8350515  & 0.4037059  & 0.2134330 \\\\\n",
       "\t 0.2100904  & 0.3608387  & 0.2335015  & 0.1029056  & 0.8113208  & 0.8113613  & 0.5656045  & 0.5228628  & 0.7762626  & 1.0000000  & ⋯          & 0.2483102  & 0.3859275  & 0.2413467  & 0.09400806 & 0.9154725  & 0.8140117  & 0.5486422  & 0.8848797  & 1.0000000  & 0.7737111 \\\\\n",
       "\t 0.6298926  & 0.1565776  & 0.6309861  & 0.4892895  & 0.4303512  & 0.3478928  & 0.4639175  & 0.5183897  & 0.3782828  & 0.1868155  & ⋯          & 0.5197439  & 0.1239339  & 0.5069476  & 0.34157491 & 0.4373638  & 0.1724151  & 0.3194888  & 0.5584192  & 0.1575005  & 0.1425948 \\\\\n",
       "\t 0.2588386  & 0.2025702  & 0.2679842  & 0.1415058  & 0.6786133  & 0.4619962  & 0.3697282  & 0.4020378  & 0.5186869  & 0.5511794  & ⋯          & 0.2682319  & 0.3126333  & 0.2639076  & 0.13674794 & 0.7127386  & 0.4827837  & 0.4277157  & 0.5982818  & 0.4770353  & 0.4549390 \\\\\n",
       "\\end{tabular}\n"
      ],
      "text/markdown": [
       "\n",
       "radius_mean | texture_mean | perimeter_mean | area_mean | smoothness_mean | compactness_mean | concavity_mean | concave.points_mean | symmetry_mean | fractal_dimension_mean | ⋯ | radius_worst | texture_worst | perimeter_worst | area_worst | smoothness_worst | compactness_worst | concavity_worst | concave.points_worst | symmetry_worst | fractal_dimension_worst | \n",
       "|---|---|---|---|---|---|\n",
       "| 0.5210374  | 0.0226581  | 0.5459885  | 0.3637328  | 0.5937528  | 0.7920373  | 0.7031396  | 0.7311133  | 0.6863636  | 0.6055181  | ⋯          | 0.6207755  | 0.1415245  | 0.6683102  | 0.45069799 | 0.6011358  | 0.6192916  | 0.5686102  | 0.9120275  | 0.5984624  | 0.4188640  | \n",
       "| 0.6431445  | 0.2725736  | 0.6157833  | 0.5015907  | 0.2898799  | 0.1817680  | 0.2036082  | 0.3487575  | 0.3797980  | 0.1413227  | ⋯          | 0.6069015  | 0.3035714  | 0.5398177  | 0.43521431 | 0.3475533  | 0.1545634  | 0.1929712  | 0.6391753  | 0.2335896  | 0.2228781  | \n",
       "| 0.6014956  | 0.3902604  | 0.5957432  | 0.4494168  | 0.5143089  | 0.4310165  | 0.4625117  | 0.6356859  | 0.5095960  | 0.2112468  | ⋯          | 0.5563856  | 0.3600746  | 0.5084417  | 0.37450845 | 0.4835898  | 0.3853751  | 0.3597444  | 0.8350515  | 0.4037059  | 0.2134330  | \n",
       "| 0.2100904  | 0.3608387  | 0.2335015  | 0.1029056  | 0.8113208  | 0.8113613  | 0.5656045  | 0.5228628  | 0.7762626  | 1.0000000  | ⋯          | 0.2483102  | 0.3859275  | 0.2413467  | 0.09400806 | 0.9154725  | 0.8140117  | 0.5486422  | 0.8848797  | 1.0000000  | 0.7737111  | \n",
       "| 0.6298926  | 0.1565776  | 0.6309861  | 0.4892895  | 0.4303512  | 0.3478928  | 0.4639175  | 0.5183897  | 0.3782828  | 0.1868155  | ⋯          | 0.5197439  | 0.1239339  | 0.5069476  | 0.34157491 | 0.4373638  | 0.1724151  | 0.3194888  | 0.5584192  | 0.1575005  | 0.1425948  | \n",
       "| 0.2588386  | 0.2025702  | 0.2679842  | 0.1415058  | 0.6786133  | 0.4619962  | 0.3697282  | 0.4020378  | 0.5186869  | 0.5511794  | ⋯          | 0.2682319  | 0.3126333  | 0.2639076  | 0.13674794 | 0.7127386  | 0.4827837  | 0.4277157  | 0.5982818  | 0.4770353  | 0.4549390  | \n",
       "\n",
       "\n"
      ],
      "text/plain": [
       "  radius_mean texture_mean perimeter_mean area_mean smoothness_mean\n",
       "1 0.5210374   0.0226581    0.5459885      0.3637328 0.5937528      \n",
       "2 0.6431445   0.2725736    0.6157833      0.5015907 0.2898799      \n",
       "3 0.6014956   0.3902604    0.5957432      0.4494168 0.5143089      \n",
       "4 0.2100904   0.3608387    0.2335015      0.1029056 0.8113208      \n",
       "5 0.6298926   0.1565776    0.6309861      0.4892895 0.4303512      \n",
       "6 0.2588386   0.2025702    0.2679842      0.1415058 0.6786133      \n",
       "  compactness_mean concavity_mean concave.points_mean symmetry_mean\n",
       "1 0.7920373        0.7031396      0.7311133           0.6863636    \n",
       "2 0.1817680        0.2036082      0.3487575           0.3797980    \n",
       "3 0.4310165        0.4625117      0.6356859           0.5095960    \n",
       "4 0.8113613        0.5656045      0.5228628           0.7762626    \n",
       "5 0.3478928        0.4639175      0.5183897           0.3782828    \n",
       "6 0.4619962        0.3697282      0.4020378           0.5186869    \n",
       "  fractal_dimension_mean ⋯ radius_worst texture_worst perimeter_worst\n",
       "1 0.6055181              ⋯ 0.6207755    0.1415245     0.6683102      \n",
       "2 0.1413227              ⋯ 0.6069015    0.3035714     0.5398177      \n",
       "3 0.2112468              ⋯ 0.5563856    0.3600746     0.5084417      \n",
       "4 1.0000000              ⋯ 0.2483102    0.3859275     0.2413467      \n",
       "5 0.1868155              ⋯ 0.5197439    0.1239339     0.5069476      \n",
       "6 0.5511794              ⋯ 0.2682319    0.3126333     0.2639076      \n",
       "  area_worst smoothness_worst compactness_worst concavity_worst\n",
       "1 0.45069799 0.6011358        0.6192916         0.5686102      \n",
       "2 0.43521431 0.3475533        0.1545634         0.1929712      \n",
       "3 0.37450845 0.4835898        0.3853751         0.3597444      \n",
       "4 0.09400806 0.9154725        0.8140117         0.5486422      \n",
       "5 0.34157491 0.4373638        0.1724151         0.3194888      \n",
       "6 0.13674794 0.7127386        0.4827837         0.4277157      \n",
       "  concave.points_worst symmetry_worst fractal_dimension_worst\n",
       "1 0.9120275            0.5984624      0.4188640              \n",
       "2 0.6391753            0.2335896      0.2228781              \n",
       "3 0.8350515            0.4037059      0.2134330              \n",
       "4 0.8848797            1.0000000      0.7737111              \n",
       "5 0.5584192            0.1575005      0.1425948              \n",
       "6 0.5982818            0.4770353      0.4549390              "
      ]
     },
     "metadata": {},
     "output_type": "display_data"
    }
   ],
   "source": [
    "##\n",
    "## se define la función de normalización\n",
    "##\n",
    "MinMaxScaler <- \n",
    "function(x) {\n",
    "    return ((x - min(x)) / (max(x) - min(x)))\n",
    "}\n",
    "\n",
    "##\n",
    "## se aplica la función a los datos\n",
    "##\n",
    "X_scaled <- as.data.frame(lapply(X, MinMaxScaler))\n",
    "head(X_scaled)"
   ]
  },
  {
   "cell_type": "code",
   "execution_count": 10,
   "metadata": {},
   "outputs": [
    {
     "data": {
      "text/plain": [
       "  radius_mean      texture_mean    perimeter_mean     area_mean     \n",
       " Min.   :0.0000   Min.   :0.0000   Min.   :0.0000   Min.   :0.0000  \n",
       " 1st Qu.:0.2233   1st Qu.:0.2185   1st Qu.:0.2168   1st Qu.:0.1174  \n",
       " Median :0.3024   Median :0.3088   Median :0.2933   Median :0.1729  \n",
       " Mean   :0.3382   Mean   :0.3240   Mean   :0.3329   Mean   :0.2169  \n",
       " 3rd Qu.:0.4164   3rd Qu.:0.4089   3rd Qu.:0.4168   3rd Qu.:0.2711  \n",
       " Max.   :1.0000   Max.   :1.0000   Max.   :1.0000   Max.   :1.0000  \n",
       " smoothness_mean  compactness_mean concavity_mean    concave.points_mean\n",
       " Min.   :0.0000   Min.   :0.0000   Min.   :0.00000   Min.   :0.0000     \n",
       " 1st Qu.:0.3046   1st Qu.:0.1397   1st Qu.:0.06926   1st Qu.:0.1009     \n",
       " Median :0.3904   Median :0.2247   Median :0.14419   Median :0.1665     \n",
       " Mean   :0.3948   Mean   :0.2606   Mean   :0.20806   Mean   :0.2431     \n",
       " 3rd Qu.:0.4755   3rd Qu.:0.3405   3rd Qu.:0.30623   3rd Qu.:0.3678     \n",
       " Max.   :1.0000   Max.   :1.0000   Max.   :1.00000   Max.   :1.0000     \n",
       " symmetry_mean    fractal_dimension_mean   radius_se         texture_se    \n",
       " Min.   :0.0000   Min.   :0.0000         Min.   :0.00000   Min.   :0.0000  \n",
       " 1st Qu.:0.2823   1st Qu.:0.1630         1st Qu.:0.04378   1st Qu.:0.1047  \n",
       " Median :0.3697   Median :0.2439         Median :0.07702   Median :0.1653  \n",
       " Mean   :0.3796   Mean   :0.2704         Mean   :0.10635   Mean   :0.1893  \n",
       " 3rd Qu.:0.4530   3rd Qu.:0.3404         3rd Qu.:0.13304   3rd Qu.:0.2462  \n",
       " Max.   :1.0000   Max.   :1.0000         Max.   :1.00000   Max.   :1.0000  \n",
       "  perimeter_se        area_se        smoothness_se    compactness_se   \n",
       " Min.   :0.00000   Min.   :0.00000   Min.   :0.0000   Min.   :0.00000  \n",
       " 1st Qu.:0.04000   1st Qu.:0.02064   1st Qu.:0.1175   1st Qu.:0.08132  \n",
       " Median :0.07209   Median :0.03311   Median :0.1586   Median :0.13667  \n",
       " Mean   :0.09938   Mean   :0.06264   Mean   :0.1811   Mean   :0.17444  \n",
       " 3rd Qu.:0.12251   3rd Qu.:0.07170   3rd Qu.:0.2187   3rd Qu.:0.22680  \n",
       " Max.   :1.00000   Max.   :1.00000   Max.   :1.0000   Max.   :1.00000  \n",
       "  concavity_se     concave.points_se  symmetry_se     fractal_dimension_se\n",
       " Min.   :0.00000   Min.   :0.0000    Min.   :0.0000   Min.   :0.00000     \n",
       " 1st Qu.:0.03811   1st Qu.:0.1447    1st Qu.:0.1024   1st Qu.:0.04675     \n",
       " Median :0.06538   Median :0.2070    Median :0.1526   Median :0.07919     \n",
       " Mean   :0.08054   Mean   :0.2235    Mean   :0.1781   Mean   :0.10019     \n",
       " 3rd Qu.:0.10619   3rd Qu.:0.2787    3rd Qu.:0.2195   3rd Qu.:0.12656     \n",
       " Max.   :1.00000   Max.   :1.0000    Max.   :1.0000   Max.   :1.00000     \n",
       "  radius_worst    texture_worst    perimeter_worst    area_worst     \n",
       " Min.   :0.0000   Min.   :0.0000   Min.   :0.0000   Min.   :0.00000  \n",
       " 1st Qu.:0.1807   1st Qu.:0.2415   1st Qu.:0.1678   1st Qu.:0.08113  \n",
       " Median :0.2504   Median :0.3569   Median :0.2353   Median :0.12321  \n",
       " Mean   :0.2967   Mean   :0.3640   Mean   :0.2831   Mean   :0.17091  \n",
       " 3rd Qu.:0.3863   3rd Qu.:0.4717   3rd Qu.:0.3735   3rd Qu.:0.22090  \n",
       " Max.   :1.0000   Max.   :1.0000   Max.   :1.0000   Max.   :1.00000  \n",
       " smoothness_worst compactness_worst concavity_worst   concave.points_worst\n",
       " Min.   :0.0000   Min.   :0.0000    Min.   :0.00000   Min.   :0.0000      \n",
       " 1st Qu.:0.3000   1st Qu.:0.1163    1st Qu.:0.09145   1st Qu.:0.2231      \n",
       " Median :0.3971   Median :0.1791    Median :0.18107   Median :0.3434      \n",
       " Mean   :0.4041   Mean   :0.2202    Mean   :0.21740   Mean   :0.3938      \n",
       " 3rd Qu.:0.4942   3rd Qu.:0.3025    3rd Qu.:0.30583   3rd Qu.:0.5546      \n",
       " Max.   :1.0000   Max.   :1.0000    Max.   :1.00000   Max.   :1.0000      \n",
       " symmetry_worst   fractal_dimension_worst\n",
       " Min.   :0.0000   Min.   :0.0000         \n",
       " 1st Qu.:0.1851   1st Qu.:0.1077         \n",
       " Median :0.2478   Median :0.1640         \n",
       " Mean   :0.2633   Mean   :0.1896         \n",
       " 3rd Qu.:0.3182   3rd Qu.:0.2429         \n",
       " Max.   :1.0000   Max.   :1.0000         "
      ]
     },
     "metadata": {},
     "output_type": "display_data"
    }
   ],
   "source": [
    "##\n",
    "## Se verifica la transformación\n",
    "##\n",
    "summary(X_scaled)"
   ]
  },
  {
   "cell_type": "code",
   "execution_count": 11,
   "metadata": {
    "collapsed": true
   },
   "outputs": [],
   "source": [
    "##\n",
    "## Se crean los conjuntos de entrenamiento y prueba\n",
    "##\n",
    "X_train      <- X_scaled[1:469, ]\n",
    "X_test       <- X_scaled[470:569, ]\n",
    "y_train_true <- y[1:469]\n",
    "y_test_true  <- y[470:569]"
   ]
  },
  {
   "cell_type": "markdown",
   "metadata": {},
   "source": [
    "# Entrenamiento del modelo"
   ]
  },
  {
   "cell_type": "markdown",
   "metadata": {},
   "source": [
    "Este no es propiamente un entrenamiento ya que no hay parámetros que estimar."
   ]
  },
  {
   "cell_type": "code",
   "execution_count": 12,
   "metadata": {
    "collapsed": true
   },
   "outputs": [],
   "source": [
    "##\n",
    "## carga la librería\n",
    "## install.packages(\"class\")\n",
    "##\n",
    "library(class)\n",
    "y_test_pred <- knn(train = X_train,   # conjunto de entrenamiento\n",
    "                   test = X_test,     # conjunto de prueba\n",
    "                   cl = y_train_true, # clases para el conjunto de entrenamiento\n",
    "                   k = 21)            # número de vecinos"
   ]
  },
  {
   "cell_type": "markdown",
   "metadata": {},
   "source": [
    "# Evaluación del modelo"
   ]
  },
  {
   "cell_type": "markdown",
   "metadata": {},
   "source": [
    "Para evaluar el desempeño en problemas de clasificación dicotómicos (dos clases mutuamente excluyentes) se usa la siguiente tabla:\n",
    "\n",
    "\n",
    "             | Pronostico\n",
    "             |  P     N\n",
    "    ---------|------------  \n",
    "          P  |  TP    FN          \n",
    "    Real     |\n",
    "          N  |  FP    TN\n",
    "    \n",
    "    TP - Verdadero positivo (correcto)\n",
    "    TN - Verdadero negativo (correcto)\n",
    "    FN - Falso negativo (mal clasificado)\n",
    "    FP - Falso positivo (mal clasificado)\n",
    "    \n",
    "La medición de la precisión del modelo permite estimar el desempeño del modelo ante nuevos datos."
   ]
  },
  {
   "cell_type": "code",
   "execution_count": 13,
   "metadata": {},
   "outputs": [
    {
     "data": {
      "text/plain": [
       "           y_test_pred\n",
       "y_test_true Benign Malignant\n",
       "  Benign        77         0\n",
       "  Malignant      2        21"
      ]
     },
     "metadata": {},
     "output_type": "display_data"
    }
   ],
   "source": [
    "##\n",
    "## Se calcula la matriz de confusión.\n",
    "## La tabla indica que se calcularon 77+21 patrones \n",
    "## correctamente, y que dos tumores malignos se \n",
    "## dianosticaron como benignos. Se clasificaron\n",
    "## cero tumores benignos como malignos.\n",
    "##\n",
    "table(y_test_true, y_test_pred)"
   ]
  },
  {
   "cell_type": "markdown",
   "metadata": {},
   "source": [
    "A partir de la matriz de confusión es posible calcular diferentes métricas de error."
   ]
  },
  {
   "cell_type": "markdown",
   "metadata": {},
   "source": [
    "* Tasa de éxito (porcentaje de patrones clasificados correctamente):\n",
    "\n",
    "\n",
    "$$\\text{success rate} = \\frac{\\text{TP} + \\text{TN}}{\\text{TP} + \\text{TN} + \\text{FP} + \\text{FN}}$$"
   ]
  },
  {
   "cell_type": "code",
   "execution_count": 14,
   "metadata": {},
   "outputs": [
    {
     "data": {
      "text/html": [
       "0.98"
      ],
      "text/latex": [
       "0.98"
      ],
      "text/markdown": [
       "0.98"
      ],
      "text/plain": [
       "[1] 0.98"
      ]
     },
     "metadata": {},
     "output_type": "display_data"
    }
   ],
   "source": [
    "(77 + 21) / ( 77 + 21 + 2 + 0)"
   ]
  },
  {
   "cell_type": "markdown",
   "metadata": {},
   "source": [
    "* Tasa de error (porcentaje de patrones clasificados incorrectamente):\n",
    "\n",
    "$$\\text{error rate} = \\frac{\\text{FP} + \\text{FN}}{\\text{TP} + \\text{TN} + \\text{FP} + \\text{FN}} = 1 - \\text{accuracy}$$"
   ]
  },
  {
   "cell_type": "code",
   "execution_count": 15,
   "metadata": {
    "scrolled": true
   },
   "outputs": [
    {
     "data": {
      "text/html": [
       "0.02"
      ],
      "text/latex": [
       "0.02"
      ],
      "text/markdown": [
       "0.02"
      ],
      "text/plain": [
       "[1] 0.02"
      ]
     },
     "metadata": {},
     "output_type": "display_data"
    }
   ],
   "source": [
    "(2 + 0) / ( 77 + 21 + 2 + 0)"
   ]
  },
  {
   "cell_type": "markdown",
   "metadata": {},
   "source": [
    "* Predominio: número total de casos positivos pronósticados respecto al número total de casos.\n",
    "\n",
    "\n",
    "$$\\text{prevalence} = \\frac{\\text{TP} + \\text{FN}}{\\text{TP} + \\text{TN} + \\text{FP} + \\text{FN}}$$"
   ]
  },
  {
   "cell_type": "markdown",
   "metadata": {},
   "source": [
    "Las siguientes dos métricas representan un balance entre lo conservador y agresivo de un clasificador. Es decir, se podría desear que se clasifique correctamente todas las masas mamarias benignas, pero esto implica que también se clasificarán como benignas masas cancerosas. De forma inversa, se puede desear que se clasifiquen correctamente todas las masas cancerosas, pero esto a su vez implica que algunas masas benignas se clasifiquen como cancerosas. "
   ]
  },
  {
   "cell_type": "code",
   "execution_count": 16,
   "metadata": {},
   "outputs": [
    {
     "name": "stderr",
     "output_type": "stream",
     "text": [
      "Loading required package: lattice\n",
      "Loading required package: ggplot2\n"
     ]
    }
   ],
   "source": [
    "library(caret)"
   ]
  },
  {
   "cell_type": "markdown",
   "metadata": {},
   "source": [
    "* Sensibilidad o tasa verdadera positiva: mide la proporción de ejemplos positivos que fueron correctamente clasificados.\n",
    "\n",
    "\n",
    "$$\\text{sensitibity} = \\frac{\\text{TP}}{\\text{TP}  + \\text{FN}}$$"
   ]
  },
  {
   "cell_type": "code",
   "execution_count": 17,
   "metadata": {},
   "outputs": [
    {
     "data": {
      "text/html": [
       "1"
      ],
      "text/latex": [
       "1"
      ],
      "text/markdown": [
       "1"
      ],
      "text/plain": [
       "[1] 1"
      ]
     },
     "metadata": {},
     "output_type": "display_data"
    }
   ],
   "source": [
    "77 / (77 + 0)"
   ]
  },
  {
   "cell_type": "code",
   "execution_count": 18,
   "metadata": {},
   "outputs": [
    {
     "data": {
      "text/html": [
       "1"
      ],
      "text/latex": [
       "1"
      ],
      "text/markdown": [
       "1"
      ],
      "text/plain": [
       "[1] 1"
      ]
     },
     "metadata": {},
     "output_type": "display_data"
    }
   ],
   "source": [
    "sensitivity(y_test_pred, \n",
    "            y_test_true,\n",
    "            positive = \"Benign\")"
   ]
  },
  {
   "cell_type": "markdown",
   "metadata": {},
   "source": [
    "* Especifidad o tasa verdadera negativa: mide la proporción de ejemplos negativos correctamente clasificados.\n",
    "\n",
    "\n",
    "$$\\text{specifity} = \\frac{\\text{TN}}{\\text{TN}  + \\text{FP}}$$"
   ]
  },
  {
   "cell_type": "code",
   "execution_count": 19,
   "metadata": {},
   "outputs": [
    {
     "data": {
      "text/html": [
       "0.91304347826087"
      ],
      "text/latex": [
       "0.91304347826087"
      ],
      "text/markdown": [
       "0.91304347826087"
      ],
      "text/plain": [
       "[1] 0.9130435"
      ]
     },
     "metadata": {},
     "output_type": "display_data"
    }
   ],
   "source": [
    "21 / (21 + 2)"
   ]
  },
  {
   "cell_type": "code",
   "execution_count": 20,
   "metadata": {},
   "outputs": [
    {
     "data": {
      "text/html": [
       "0.91304347826087"
      ],
      "text/latex": [
       "0.91304347826087"
      ],
      "text/markdown": [
       "0.91304347826087"
      ],
      "text/plain": [
       "[1] 0.9130435"
      ]
     },
     "metadata": {},
     "output_type": "display_data"
    }
   ],
   "source": [
    "specificity(y_test_pred, \n",
    "            y_test_true,\n",
    "            positive = \"Benign\")"
   ]
  },
  {
   "cell_type": "markdown",
   "metadata": {},
   "source": [
    "* Precisión o valor predictivo positivo: Proporción de casos positivos que fueron verdaderamente positivos.\n",
    "\n",
    "\n",
    "$$\\text{precision} = \\frac{\\text{TP}}{\\text{TP}  + \\text{FP}}$$"
   ]
  },
  {
   "cell_type": "code",
   "execution_count": 21,
   "metadata": {},
   "outputs": [
    {
     "data": {
      "text/html": [
       "0.974683544303797"
      ],
      "text/latex": [
       "0.974683544303797"
      ],
      "text/markdown": [
       "0.974683544303797"
      ],
      "text/plain": [
       "[1] 0.9746835"
      ]
     },
     "metadata": {},
     "output_type": "display_data"
    }
   ],
   "source": [
    "77 / (77 + 2)"
   ]
  },
  {
   "cell_type": "code",
   "execution_count": 22,
   "metadata": {},
   "outputs": [
    {
     "data": {
      "text/html": [
       "&lt;NA&gt;"
      ],
      "text/latex": [
       "<NA>"
      ],
      "text/markdown": [
       "&lt;NA&gt;"
      ],
      "text/plain": [
       "[1] NA"
      ]
     },
     "metadata": {},
     "output_type": "display_data"
    }
   ],
   "source": [
    "posPredValue(y_test_pred, \n",
    "             y_test_true,\n",
    "             positive = \"Bening\",\n",
    "             negative = \"Malign\")"
   ]
  },
  {
   "cell_type": "markdown",
   "metadata": {},
   "source": [
    "* Valor predictivo negativo: Proporción de casos negativos que fueron verdaderamente negativos.\n",
    "\n",
    "\n",
    "$$\\text{negative predictive value} = \\frac{\\text{TN}}{\\text{TN}  + \\text{FN}}$$"
   ]
  },
  {
   "cell_type": "code",
   "execution_count": 23,
   "metadata": {},
   "outputs": [
    {
     "data": {
      "text/html": [
       "1"
      ],
      "text/latex": [
       "1"
      ],
      "text/markdown": [
       "1"
      ],
      "text/plain": [
       "[1] 1"
      ]
     },
     "metadata": {},
     "output_type": "display_data"
    }
   ],
   "source": [
    "21 / (21 + 0)"
   ]
  },
  {
   "cell_type": "code",
   "execution_count": 24,
   "metadata": {
    "scrolled": true
   },
   "outputs": [
    {
     "data": {
      "text/html": [
       "1"
      ],
      "text/latex": [
       "1"
      ],
      "text/markdown": [
       "1"
      ],
      "text/plain": [
       "[1] 1"
      ]
     },
     "metadata": {},
     "output_type": "display_data"
    }
   ],
   "source": [
    "negPredValue(y_test_pred, \n",
    "             y_test_true,\n",
    "             positive = \"Bening\")"
   ]
  },
  {
   "cell_type": "markdown",
   "metadata": {},
   "source": [
    "* La medida F permite comparar varios modelos entre si.\n",
    "\n",
    "\n",
    "$$\\text{F-measure} = \\frac{2 * \\text{TP}}{2 * \\text{TP} + \\text{FP} + \\text{FN}}$$"
   ]
  },
  {
   "cell_type": "markdown",
   "metadata": {},
   "source": [
    "**Ejercicio.--** La función CrossTable computa la matriz de confusión y entrega información detallada de los cálculos, tal como se muestra a continuación. Cómo se lee la tabla? Puede identificar las medidas de precisión anteriores en la tabla?"
   ]
  },
  {
   "cell_type": "code",
   "execution_count": 25,
   "metadata": {
    "scrolled": false
   },
   "outputs": [
    {
     "name": "stdout",
     "output_type": "stream",
     "text": [
      "\n",
      " \n",
      "   Cell Contents\n",
      "|-------------------------|\n",
      "|                       N |\n",
      "|           N / Row Total |\n",
      "|           N / Col Total |\n",
      "|         N / Table Total |\n",
      "|-------------------------|\n",
      "\n",
      " \n",
      "Total Observations in Table:  100 \n",
      "\n",
      " \n",
      "             | y_test_pred \n",
      " y_test_true |    Benign | Malignant | Row Total | \n",
      "-------------|-----------|-----------|-----------|\n",
      "      Benign |        77 |         0 |        77 | \n",
      "             |     1.000 |     0.000 |     0.770 | \n",
      "             |     0.975 |     0.000 |           | \n",
      "             |     0.770 |     0.000 |           | \n",
      "-------------|-----------|-----------|-----------|\n",
      "   Malignant |         2 |        21 |        23 | \n",
      "             |     0.087 |     0.913 |     0.230 | \n",
      "             |     0.025 |     1.000 |           | \n",
      "             |     0.020 |     0.210 |           | \n",
      "-------------|-----------|-----------|-----------|\n",
      "Column Total |        79 |        21 |       100 | \n",
      "             |     0.790 |     0.210 |           | \n",
      "-------------|-----------|-----------|-----------|\n",
      "\n",
      " \n"
     ]
    }
   ],
   "source": [
    "##\n",
    "## La función CrossTable del paquete gmodels\n",
    "## entrega información más detallada.\n",
    "## install.packages(\"gmodels\")\n",
    "##\n",
    "library(gmodels)\n",
    "CrossTable(x = y_test_true, \n",
    "           y = y_test_pred,\n",
    "           prop.chisq=FALSE)"
   ]
  },
  {
   "cell_type": "markdown",
   "metadata": {},
   "source": [
    "# Mejora del modelo"
   ]
  },
  {
   "cell_type": "markdown",
   "metadata": {},
   "source": [
    "**Ejercicio.** Determine si el modelo mejora con $k$ = 21 y se estándarizan las variables (use la función `scale`). "
   ]
  },
  {
   "cell_type": "markdown",
   "metadata": {},
   "source": [
    "**Ejercicio.** Determine el valor óptimo de $k$ cuándo los datos son normalizados (Calcule la cantidad total de ejemplos mal clasificados para $k$ desde 1 hasta 27)."
   ]
  },
  {
   "cell_type": "markdown",
   "metadata": {},
   "source": [
    "**Ejercicio.** Los resutados son dependientes de cómo se partieron los datos en entrenamiento y prueba. Cómo podría calcular de una forma más robusta la cantidad de vecinos?"
   ]
  },
  {
   "cell_type": "markdown",
   "metadata": {},
   "source": [
    "---"
   ]
  },
  {
   "cell_type": "markdown",
   "metadata": {},
   "source": [
    "Diagnóstico del cáncer de mama usando kNN\n",
    "===\n",
    "\n",
    "**Juan David Velásquez Henao**  \n",
    "jdvelasq@unal.edu.co   \n",
    "Universidad Nacional de Colombia, Sede Medellín  \n",
    "Facultad de Minas  \n",
    "Medellín, Colombia\n",
    "\n",
    "---\n",
    "\n",
    "Haga click [aquí](https://github.com/jdvelasq/R-for-predictive-analytics/tree/master/) para acceder al repositorio online.\n",
    "\n",
    "Haga click [aquí](http://nbviewer.jupyter.org/github/jdvelasq/R-for-predictive-analytics/tree/master/) para explorar el repositorio usando `nbviewer`. "
   ]
  }
 ],
 "metadata": {
  "kernel_info": {
   "name": "ir"
  },
  "kernelspec": {
   "display_name": "R",
   "language": "R",
   "name": "ir"
  },
  "language_info": {
   "codemirror_mode": "r",
   "file_extension": ".r",
   "mimetype": "text/x-r-source",
   "name": "R",
   "pygments_lexer": "r",
   "version": "3.4.4"
  },
  "nteract": {
   "version": "0.8.3"
  },
  "varInspector": {
   "cols": {
    "lenName": 16,
    "lenType": 16,
    "lenVar": 40
   },
   "kernels_config": {
    "python": {
     "delete_cmd_postfix": "",
     "delete_cmd_prefix": "del ",
     "library": "var_list.py",
     "varRefreshCmd": "print(var_dic_list())"
    },
    "r": {
     "delete_cmd_postfix": ") ",
     "delete_cmd_prefix": "rm(",
     "library": "var_list.r",
     "varRefreshCmd": "cat(var_dic_list()) "
    }
   },
   "types_to_exclude": [
    "module",
    "function",
    "builtin_function_or_method",
    "instance",
    "_Feature"
   ],
   "window_display": false
  }
 },
 "nbformat": 4,
 "nbformat_minor": 2
}
